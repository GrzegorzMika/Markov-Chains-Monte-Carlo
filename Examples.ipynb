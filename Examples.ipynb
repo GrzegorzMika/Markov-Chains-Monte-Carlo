{
 "cells": [
  {
   "cell_type": "markdown",
   "metadata": {},
   "source": [
    "# Examples of usage"
   ]
  },
  {
   "cell_type": "markdown",
   "metadata": {},
   "source": [
    "Import necessery packages and define exemplary probability density functions to sample from"
   ]
  },
  {
   "cell_type": "markdown",
   "metadata": {},
   "source": [
    "1. `Uniform` proposal distribution is more mature and works better in higher dimesions\n",
    "2. `MetropolisHastingsSymmetric` is a refined version of `MetropolisHastings` to work with symmetric proposal distributions and allows to sample faster from them\n",
    "3. `Auto` function provides wrapper to sample from custom pdf function without need to worry about setting proposal distribution and its paramters"
   ]
  },
  {
   "cell_type": "code",
   "execution_count": 1,
   "metadata": {},
   "outputs": [],
   "source": [
    "import numpy as np\n",
    "import matplotlib.pyplot as plt\n",
    "from ProposalDistribution import Normal, Uniform\n",
    "from Sampling import MetropolisHastingsSymmetric, MetropolisHastings\n",
    "from Auto import AutoSample"
   ]
  },
  {
   "cell_type": "code",
   "execution_count": 2,
   "metadata": {},
   "outputs": [],
   "source": [
    "# Exponential distribution\n",
    "def exp_target(x):\n",
    "    return np.where(x < 0, 0, np.exp(-x))"
   ]
  },
  {
   "cell_type": "code",
   "execution_count": 3,
   "metadata": {},
   "outputs": [],
   "source": [
    "# 10-dimesional noraml distribution\n",
    "sigma = np.eye(N=10)\n",
    "sigma[0, 0] = 10\n",
    "inv = np.linalg.inv(sigma)\n",
    "def norm_target(x):\n",
    "    return np.exp(-np.matmul(np.matmul(x, inv),x.T)**2)"
   ]
  },
  {
   "cell_type": "markdown",
   "metadata": {},
   "source": [
    "Setup instances of proposal distributions and algorithms"
   ]
  },
  {
   "cell_type": "code",
   "execution_count": 5,
   "metadata": {},
   "outputs": [],
   "source": [
    "uniform = Uniform(spread=0.1)\n",
    "normal = Normal(mean=0, spread=1)"
   ]
  },
  {
   "cell_type": "code",
   "execution_count": 6,
   "metadata": {},
   "outputs": [],
   "source": [
    "algo = MetropolisHastings(target=exp_target, proposal=normal, initial=[0])\n",
    "algo_sym = MetropolisHastingsSymmetric(target=exp_target, proposal=normal, initial=[0])"
   ]
  },
  {
   "cell_type": "code",
   "execution_count": null,
   "metadata": {},
   "outputs": [],
   "source": []
  }
 ],
 "metadata": {
  "kernelspec": {
   "display_name": "Python 3",
   "language": "python",
   "name": "python3"
  },
  "language_info": {
   "codemirror_mode": {
    "name": "ipython",
    "version": 3
   },
   "file_extension": ".py",
   "mimetype": "text/x-python",
   "name": "python",
   "nbconvert_exporter": "python",
   "pygments_lexer": "ipython3",
   "version": "3.8.3"
  }
 },
 "nbformat": 4,
 "nbformat_minor": 4
}
